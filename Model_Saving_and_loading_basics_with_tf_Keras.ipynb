{
  "nbformat": 4,
  "nbformat_minor": 0,
  "metadata": {
    "colab": {
      "provenance": [],
      "mount_file_id": "1e-kMN2SHp7AOh3iVXDcxeeO0S7cENQ-o",
      "authorship_tag": "ABX9TyOSJutx3eb/+N7WGOW+vOMW",
      "include_colab_link": true
    },
    "kernelspec": {
      "name": "python3",
      "display_name": "Python 3"
    },
    "language_info": {
      "name": "python"
    },
    "gpuClass": "standard"
  },
  "cells": [
    {
      "cell_type": "markdown",
      "metadata": {
        "id": "view-in-github",
        "colab_type": "text"
      },
      "source": [
        "<a href=\"https://colab.research.google.com/github/AmlanSamanta/TensorFlow_Examples/blob/main/Model_Saving_and_loading_basics_with_tf_Keras.ipynb\" target=\"_parent\"><img src=\"https://colab.research.google.com/assets/colab-badge.svg\" alt=\"Open In Colab\"/></a>"
      ]
    },
    {
      "cell_type": "markdown",
      "source": [
        "## Saving and loading a model or model weights during and after the training process are the fundamental necessities of the developer community when somebody needs to work on a ml project and/or share the model creation code and trained model weights/parameters with others for reproduction of their work or checking with different datasets to understand how their models work.\n",
        "\n",
        "The Keras API helps us to store the model weights to a collection of checkpoint-formatted files that contain only the trained weights in a binary format. Checkpoints contain:\n",
        "\n",
        "    One or more shards that contain your model's weights.\n",
        "    An index file that indicates which weights are stored in which shard.\n"
      ],
      "metadata": {
        "id": "LPAraj9imbEo"
      }
    },
    {
      "cell_type": "markdown",
      "source": [
        "my installs and Imports"
      ],
      "metadata": {
        "id": "rN4MVTHRnUu6"
      }
    },
    {
      "cell_type": "code",
      "source": [
        "!pip install h5py\n",
        "import os\n",
        "\n",
        "import tensorflow as tf\n",
        "from tensorflow import keras"
      ],
      "metadata": {
        "id": "f-fp_4QEm7g4",
        "colab": {
          "base_uri": "https://localhost:8080/"
        },
        "outputId": "50efbb61-530a-4385-9f1c-9b0b1bb62606"
      },
      "execution_count": 20,
      "outputs": [
        {
          "output_type": "stream",
          "name": "stdout",
          "text": [
            "Looking in indexes: https://pypi.org/simple, https://us-python.pkg.dev/colab-wheels/public/simple/\n",
            "Requirement already satisfied: h5py in /usr/local/lib/python3.8/dist-packages (3.1.0)\n",
            "Requirement already satisfied: numpy>=1.17.5 in /usr/local/lib/python3.8/dist-packages (from h5py) (1.21.6)\n"
          ]
        }
      ]
    },
    {
      "cell_type": "markdown",
      "source": [
        "Getting my example mnist dataset - using first 1000 examples\n",
        "\n",
        "\n"
      ],
      "metadata": {
        "id": "xutOIEFfnjPX"
      }
    },
    {
      "cell_type": "code",
      "source": [
        "(train_images, train_labels), (test_images, test_labels) = tf.keras.datasets.mnist.load_data()\n",
        "\n",
        "train_labels = train_labels[:1000]\n",
        "test_labels = test_labels[:1000]\n",
        "\n",
        "train_images = train_images[:1000].reshape(-1, 28 * 28) / 255.0\n",
        "test_images = test_images[:1000].reshape(-1, 28 * 28) / 255.0"
      ],
      "metadata": {
        "id": "giUQeivXnm1_"
      },
      "execution_count": 21,
      "outputs": []
    },
    {
      "cell_type": "markdown",
      "source": [
        "Defining and building my model"
      ],
      "metadata": {
        "id": "jpwexkBpn_H6"
      }
    },
    {
      "cell_type": "code",
      "source": [
        "# a simple sequential model\n",
        "def create_model():\n",
        "  model = tf.keras.Sequential([\n",
        "    keras.layers.Dense(512, activation='relu', input_shape=(784,)),\n",
        "    keras.layers.Dropout(0.2),\n",
        "    keras.layers.Dense(10)\n",
        "  ])\n",
        "\n",
        "  model.compile(optimizer='adam',\n",
        "                loss=tf.keras.losses.SparseCategoricalCrossentropy(from_logits=True),\n",
        "                metrics=[tf.keras.metrics.SparseCategoricalAccuracy()])\n",
        "\n",
        "  return model\n",
        "\n",
        "# creating a basic model instance\n",
        "model = create_model()\n",
        "\n",
        "# displaying model's architecture\n",
        "model.summary()\n"
      ],
      "metadata": {
        "id": "QGy9ijDKoENY",
        "colab": {
          "base_uri": "https://localhost:8080/"
        },
        "outputId": "504b74fb-9cf7-43d0-ee70-21487f94a3f5"
      },
      "execution_count": 22,
      "outputs": [
        {
          "output_type": "stream",
          "name": "stdout",
          "text": [
            "Model: \"sequential_7\"\n",
            "_________________________________________________________________\n",
            " Layer (type)                Output Shape              Param #   \n",
            "=================================================================\n",
            " dense_14 (Dense)            (None, 512)               401920    \n",
            "                                                                 \n",
            " dropout_7 (Dropout)         (None, 512)               0         \n",
            "                                                                 \n",
            " dense_15 (Dense)            (None, 10)                5130      \n",
            "                                                                 \n",
            "=================================================================\n",
            "Total params: 407,050\n",
            "Trainable params: 407,050\n",
            "Non-trainable params: 0\n",
            "_________________________________________________________________\n"
          ]
        }
      ]
    },
    {
      "cell_type": "markdown",
      "source": [
        "Saving model checkpoints during my model training using Keras callback"
      ],
      "metadata": {
        "id": "ZNXuFBohoGYE"
      }
    },
    {
      "cell_type": "code",
      "source": [
        "checkpoint_path = \"training_310123_0744_1/cp.ckpt\"\n",
        "checkpoint_dir = os.path.dirname(checkpoint_path)\n",
        "\n",
        "# creating the callback that saves the model's weights\n",
        "cp_callback = tf.keras.callbacks.ModelCheckpoint(filepath=checkpoint_path,\n",
        "                                                 save_weights_only=True,\n",
        "                                                 verbose=1)\n",
        "\n",
        "# training my model along with passing the callback\n",
        "model.fit(train_images, \n",
        "          train_labels,  \n",
        "          epochs=10,\n",
        "          validation_data=(test_images, test_labels),\n",
        "          callbacks=[cp_callback])\n"
      ],
      "metadata": {
        "id": "tgvgkkCVo_Dm",
        "colab": {
          "base_uri": "https://localhost:8080/"
        },
        "outputId": "5bf6eae9-6a64-4059-8371-2cb0db126c63"
      },
      "execution_count": 25,
      "outputs": [
        {
          "output_type": "stream",
          "name": "stdout",
          "text": [
            "Epoch 1/10\n",
            "23/32 [====================>.........] - ETA: 0s - loss: 0.0344 - sparse_categorical_accuracy: 0.9986\n",
            "Epoch 1: saving model to training_310123_0744_1/cp.ckpt\n",
            "32/32 [==============================] - 1s 9ms/step - loss: 0.0352 - sparse_categorical_accuracy: 0.9990 - val_loss: 0.3864 - val_sparse_categorical_accuracy: 0.8790\n",
            "Epoch 2/10\n",
            "23/32 [====================>.........] - ETA: 0s - loss: 0.0255 - sparse_categorical_accuracy: 0.9986\n",
            "Epoch 2: saving model to training_310123_0744_1/cp.ckpt\n",
            "32/32 [==============================] - 0s 11ms/step - loss: 0.0278 - sparse_categorical_accuracy: 0.9990 - val_loss: 0.3949 - val_sparse_categorical_accuracy: 0.8730\n",
            "Epoch 3/10\n",
            "22/32 [===================>..........] - ETA: 0s - loss: 0.0266 - sparse_categorical_accuracy: 0.9986\n",
            "Epoch 3: saving model to training_310123_0744_1/cp.ckpt\n",
            "32/32 [==============================] - 0s 11ms/step - loss: 0.0248 - sparse_categorical_accuracy: 0.9990 - val_loss: 0.3963 - val_sparse_categorical_accuracy: 0.8700\n",
            "Epoch 4/10\n",
            "32/32 [==============================] - ETA: 0s - loss: 0.0169 - sparse_categorical_accuracy: 1.0000\n",
            "Epoch 4: saving model to training_310123_0744_1/cp.ckpt\n",
            "32/32 [==============================] - 0s 9ms/step - loss: 0.0169 - sparse_categorical_accuracy: 1.0000 - val_loss: 0.4053 - val_sparse_categorical_accuracy: 0.8750\n",
            "Epoch 5/10\n",
            "32/32 [==============================] - ETA: 0s - loss: 0.0152 - sparse_categorical_accuracy: 1.0000\n",
            "Epoch 5: saving model to training_310123_0744_1/cp.ckpt\n",
            "32/32 [==============================] - 0s 11ms/step - loss: 0.0152 - sparse_categorical_accuracy: 1.0000 - val_loss: 0.3964 - val_sparse_categorical_accuracy: 0.8810\n",
            "Epoch 6/10\n",
            "29/32 [==========================>...] - ETA: 0s - loss: 0.0127 - sparse_categorical_accuracy: 1.0000\n",
            "Epoch 6: saving model to training_310123_0744_1/cp.ckpt\n",
            "32/32 [==============================] - 0s 12ms/step - loss: 0.0127 - sparse_categorical_accuracy: 1.0000 - val_loss: 0.3986 - val_sparse_categorical_accuracy: 0.8830\n",
            "Epoch 7/10\n",
            "28/32 [=========================>....] - ETA: 0s - loss: 0.0122 - sparse_categorical_accuracy: 1.0000\n",
            "Epoch 7: saving model to training_310123_0744_1/cp.ckpt\n",
            "32/32 [==============================] - 0s 12ms/step - loss: 0.0114 - sparse_categorical_accuracy: 1.0000 - val_loss: 0.4207 - val_sparse_categorical_accuracy: 0.8700\n",
            "Epoch 8/10\n",
            "29/32 [==========================>...] - ETA: 0s - loss: 0.0103 - sparse_categorical_accuracy: 1.0000\n",
            "Epoch 8: saving model to training_310123_0744_1/cp.ckpt\n",
            "32/32 [==============================] - 0s 10ms/step - loss: 0.0110 - sparse_categorical_accuracy: 1.0000 - val_loss: 0.4178 - val_sparse_categorical_accuracy: 0.8700\n",
            "Epoch 9/10\n",
            "30/32 [===========================>..] - ETA: 0s - loss: 0.0097 - sparse_categorical_accuracy: 1.0000\n",
            "Epoch 9: saving model to training_310123_0744_1/cp.ckpt\n",
            "32/32 [==============================] - 0s 9ms/step - loss: 0.0096 - sparse_categorical_accuracy: 1.0000 - val_loss: 0.4108 - val_sparse_categorical_accuracy: 0.8790\n",
            "Epoch 10/10\n",
            "29/32 [==========================>...] - ETA: 0s - loss: 0.0084 - sparse_categorical_accuracy: 1.0000\n",
            "Epoch 10: saving model to training_310123_0744_1/cp.ckpt\n",
            "32/32 [==============================] - 0s 12ms/step - loss: 0.0084 - sparse_categorical_accuracy: 1.0000 - val_loss: 0.4169 - val_sparse_categorical_accuracy: 0.8680\n"
          ]
        },
        {
          "output_type": "execute_result",
          "data": {
            "text/plain": [
              "<keras.callbacks.History at 0x7f359a1eae80>"
            ]
          },
          "metadata": {},
          "execution_count": 25
        }
      ]
    },
    {
      "cell_type": "code",
      "source": [
        "# at the end of each epoch this single collection of TF checkpoint files are updated\n",
        "os.listdir(checkpoint_dir)"
      ],
      "metadata": {
        "id": "QjeLh2fFp1FB",
        "colab": {
          "base_uri": "https://localhost:8080/"
        },
        "outputId": "335396e8-114d-44d2-9f31-8880bdfd3fb3"
      },
      "execution_count": 26,
      "outputs": [
        {
          "output_type": "execute_result",
          "data": {
            "text/plain": [
              "['checkpoint', 'cp.ckpt.index', 'cp.ckpt.data-00000-of-00001']"
            ]
          },
          "metadata": {},
          "execution_count": 26
        }
      ]
    },
    {
      "cell_type": "markdown",
      "source": [
        "Loading my model's weights from the saved checkpoints  "
      ],
      "metadata": {
        "id": "WpIJVZoYqUq2"
      }
    },
    {
      "cell_type": "code",
      "source": [
        "# creating another fresh model instance with same architecture\n",
        "model = create_model()\n",
        "\n",
        "# evaluate the model before trining\n",
        "loss, acc = model.evaluate(test_images, test_labels, verbose=2)\n",
        "print(\"untrained model, accuracy: {:5.2f}%\".format(100 * acc))\n",
        "\n",
        "\n",
        "# restoring previous model by loading the weights from checkpoints\n",
        "model.load_weights(checkpoint_path)\n",
        "\n",
        "# re-evaluating the model\n",
        "loss, acc = model.evaluate(test_images, test_labels, verbose=2)\n",
        "print(\"restored model, accuracy: {:5.2f}%\".format(100 * acc))"
      ],
      "metadata": {
        "id": "ixLvKCuJqm0A",
        "colab": {
          "base_uri": "https://localhost:8080/"
        },
        "outputId": "89f40b66-89bb-4c92-9c77-02a46ee483a0"
      },
      "execution_count": 27,
      "outputs": [
        {
          "output_type": "stream",
          "name": "stdout",
          "text": [
            "32/32 - 0s - loss: 2.3415 - sparse_categorical_accuracy: 0.1070 - 167ms/epoch - 5ms/step\n",
            "untrained model, accuracy: 10.70%\n",
            "32/32 - 0s - loss: 0.4169 - sparse_categorical_accuracy: 0.8680 - 176ms/epoch - 5ms/step\n",
            "restored model, accuracy: 86.80%\n"
          ]
        }
      ]
    },
    {
      "cell_type": "markdown",
      "source": [
        "Utilizing callback options - saving my checkpoints once every five epoch with unique name"
      ],
      "metadata": {
        "id": "82Y0RXvhrQok"
      }
    },
    {
      "cell_type": "code",
      "source": [
        "# including the epoch in the file name by using `str.format`\n",
        "checkpoint_path = \"training_310123_0747_2/cp-{epoch:04d}.ckpt\"\n",
        "checkpoint_dir = os.path.dirname(checkpoint_path)\n",
        "\n",
        "batch_size = 32\n",
        "\n",
        "# creating a callback that saves the model's weights every 5 epochs\n",
        "cp_callback = tf.keras.callbacks.ModelCheckpoint(\n",
        "    filepath=checkpoint_path, \n",
        "    verbose=1, \n",
        "    save_weights_only=True,\n",
        "    save_freq=5*batch_size)\n",
        "\n",
        "\n",
        "model = create_model()\n",
        "\n",
        "# saving the weights using the `checkpoint_path` format\n",
        "model.save_weights(checkpoint_path.format(epoch=0))\n",
        "\n",
        "# training the model and saving the uniquely named checkpoints every 5 epochs with the new callback\n",
        "model.fit(train_images, \n",
        "          train_labels,\n",
        "          epochs=50, \n",
        "          batch_size=batch_size, \n",
        "          callbacks=[cp_callback],\n",
        "          validation_data=(test_images, test_labels),\n",
        "          verbose=0)\n"
      ],
      "metadata": {
        "id": "brDYNN-drxUy",
        "colab": {
          "base_uri": "https://localhost:8080/"
        },
        "outputId": "eed8dc9f-84da-4060-e656-e853e72f6b1a"
      },
      "execution_count": 28,
      "outputs": [
        {
          "output_type": "stream",
          "name": "stdout",
          "text": [
            "\n",
            "Epoch 5: saving model to training_310123_0747_2/cp-0005.ckpt\n",
            "\n",
            "Epoch 10: saving model to training_310123_0747_2/cp-0010.ckpt\n",
            "\n",
            "Epoch 15: saving model to training_310123_0747_2/cp-0015.ckpt\n",
            "\n",
            "Epoch 20: saving model to training_310123_0747_2/cp-0020.ckpt\n",
            "\n",
            "Epoch 25: saving model to training_310123_0747_2/cp-0025.ckpt\n",
            "\n",
            "Epoch 30: saving model to training_310123_0747_2/cp-0030.ckpt\n",
            "\n",
            "Epoch 35: saving model to training_310123_0747_2/cp-0035.ckpt\n",
            "\n",
            "Epoch 40: saving model to training_310123_0747_2/cp-0040.ckpt\n",
            "\n",
            "Epoch 45: saving model to training_310123_0747_2/cp-0045.ckpt\n",
            "\n",
            "Epoch 50: saving model to training_310123_0747_2/cp-0050.ckpt\n"
          ]
        },
        {
          "output_type": "execute_result",
          "data": {
            "text/plain": [
              "<keras.callbacks.History at 0x7f359a0097f0>"
            ]
          },
          "metadata": {},
          "execution_count": 28
        }
      ]
    },
    {
      "cell_type": "code",
      "source": [
        "os.listdir(checkpoint_dir)"
      ],
      "metadata": {
        "id": "ziS1jF6_r1S2",
        "colab": {
          "base_uri": "https://localhost:8080/"
        },
        "outputId": "fb39761b-6632-4243-f3ec-70e6143d20e4"
      },
      "execution_count": 29,
      "outputs": [
        {
          "output_type": "execute_result",
          "data": {
            "text/plain": [
              "['cp-0050.ckpt.index',\n",
              " 'cp-0020.ckpt.data-00000-of-00001',\n",
              " 'cp-0015.ckpt.data-00000-of-00001',\n",
              " 'cp-0000.ckpt.data-00000-of-00001',\n",
              " 'cp-0045.ckpt.data-00000-of-00001',\n",
              " 'cp-0015.ckpt.index',\n",
              " 'cp-0005.ckpt.data-00000-of-00001',\n",
              " 'cp-0040.ckpt.data-00000-of-00001',\n",
              " 'cp-0040.ckpt.index',\n",
              " 'cp-0030.ckpt.data-00000-of-00001',\n",
              " 'cp-0025.ckpt.index',\n",
              " 'cp-0030.ckpt.index',\n",
              " 'cp-0035.ckpt.index',\n",
              " 'cp-0035.ckpt.data-00000-of-00001',\n",
              " 'cp-0045.ckpt.index',\n",
              " 'cp-0000.ckpt.index',\n",
              " 'cp-0025.ckpt.data-00000-of-00001',\n",
              " 'checkpoint',\n",
              " 'cp-0010.ckpt.data-00000-of-00001',\n",
              " 'cp-0050.ckpt.data-00000-of-00001',\n",
              " 'cp-0020.ckpt.index',\n",
              " 'cp-0005.ckpt.index',\n",
              " 'cp-0010.ckpt.index']"
            ]
          },
          "metadata": {},
          "execution_count": 29
        }
      ]
    },
    {
      "cell_type": "code",
      "source": [
        "# Choosing the latest checkpoint\n",
        "latest = tf.train.latest_checkpoint(checkpoint_dir)\n",
        "latest"
      ],
      "metadata": {
        "id": "s4O9Ooxrr7JF",
        "colab": {
          "base_uri": "https://localhost:8080/",
          "height": 35
        },
        "outputId": "1874017b-a058-46e6-b5f6-38a83bf23d13"
      },
      "execution_count": 9,
      "outputs": [
        {
          "output_type": "execute_result",
          "data": {
            "text/plain": [
              "'training_310523_0747_2/cp-0050.ckpt'"
            ],
            "application/vnd.google.colaboratory.intrinsic+json": {
              "type": "string"
            }
          },
          "metadata": {},
          "execution_count": 9
        }
      ]
    },
    {
      "cell_type": "code",
      "source": [
        "# testing with the latest checkpoint\n",
        "\n",
        "\n",
        "model = create_model()\n",
        "\n",
        "\n",
        "model.load_weights(latest)\n",
        "\n",
        "loss, acc = model.evaluate(test_images, test_labels, verbose=2)\n",
        "print(\"Restored model, accuracy: {:5.2f}%\".format(100 * acc))"
      ],
      "metadata": {
        "id": "o7YVCEiLsFhc",
        "colab": {
          "base_uri": "https://localhost:8080/"
        },
        "outputId": "7f064c83-ff03-404d-cf06-23bd28749c51"
      },
      "execution_count": 30,
      "outputs": [
        {
          "output_type": "stream",
          "name": "stdout",
          "text": [
            "32/32 - 0s - loss: 0.4818 - sparse_categorical_accuracy: 0.8770 - 177ms/epoch - 6ms/step\n",
            "Restored model, accuracy: 87.70%\n"
          ]
        }
      ]
    },
    {
      "cell_type": "markdown",
      "source": [
        "Saving weights manually"
      ],
      "metadata": {
        "id": "EYx6P0RQsr6c"
      }
    },
    {
      "cell_type": "code",
      "source": [
        "\n",
        "model.save_weights('./checkpoints/my_checkpoint')\n",
        "\n",
        "model = create_model()\n",
        "\n",
        "model.load_weights('./checkpoints/my_checkpoint')\n",
        "\n",
        "loss, acc = model.evaluate(test_images, test_labels, verbose=2)\n",
        "print(\"Restored model, accuracy: {:5.2f}%\".format(100 * acc))\n"
      ],
      "metadata": {
        "id": "aO4n1QyYsud0",
        "colab": {
          "base_uri": "https://localhost:8080/"
        },
        "outputId": "7b604672-0f6a-4b29-851c-e37f0ce23959"
      },
      "execution_count": 32,
      "outputs": [
        {
          "output_type": "stream",
          "name": "stdout",
          "text": [
            "32/32 - 0s - loss: 0.4818 - sparse_categorical_accuracy: 0.8770 - 173ms/epoch - 5ms/step\n",
            "Restored model, accuracy: 87.70%\n"
          ]
        }
      ]
    },
    {
      "cell_type": "markdown",
      "source": [
        "Saving my entire model including its architecture, weights and training configuration usiing SavedModel format"
      ],
      "metadata": {
        "id": "liuBoHE3tC7S"
      }
    },
    {
      "cell_type": "code",
      "source": [
        "model = create_model()\n",
        "model.fit(train_images, train_labels, epochs=5)\n",
        "\n",
        "# Save the entire model as a SavedModel.\n",
        "!mkdir -p saved_model\n",
        "model.save('saved_model/my_model')"
      ],
      "metadata": {
        "id": "d165eRh0tUIN",
        "colab": {
          "base_uri": "https://localhost:8080/"
        },
        "outputId": "f72bbbed-9a32-499d-f0ff-23db0269edf7"
      },
      "execution_count": 33,
      "outputs": [
        {
          "output_type": "stream",
          "name": "stdout",
          "text": [
            "Epoch 1/5\n"
          ]
        },
        {
          "output_type": "stream",
          "name": "stderr",
          "text": [
            "WARNING:tensorflow:Detecting that an object or model or tf.train.Checkpoint is being deleted with unrestored values. See the following logs for the specific values in question. To silence these warnings, use `status.expect_partial()`. See https://www.tensorflow.org/api_docs/python/tf/train/Checkpoint#restorefor details about the status object returned by the restore function.\n",
            "WARNING:tensorflow:Value in checkpoint could not be found in the restored object: (root).optimizer.iter\n",
            "WARNING:tensorflow:Value in checkpoint could not be found in the restored object: (root).optimizer.beta_1\n",
            "WARNING:tensorflow:Value in checkpoint could not be found in the restored object: (root).optimizer.beta_2\n",
            "WARNING:tensorflow:Value in checkpoint could not be found in the restored object: (root).optimizer.decay\n",
            "WARNING:tensorflow:Value in checkpoint could not be found in the restored object: (root).optimizer.learning_rate\n",
            "WARNING:tensorflow:Detecting that an object or model or tf.train.Checkpoint is being deleted with unrestored values. See the following logs for the specific values in question. To silence these warnings, use `status.expect_partial()`. See https://www.tensorflow.org/api_docs/python/tf/train/Checkpoint#restorefor details about the status object returned by the restore function.\n",
            "WARNING:tensorflow:Value in checkpoint could not be found in the restored object: (root).optimizer.iter\n",
            "WARNING:tensorflow:Value in checkpoint could not be found in the restored object: (root).optimizer.beta_1\n",
            "WARNING:tensorflow:Value in checkpoint could not be found in the restored object: (root).optimizer.beta_2\n",
            "WARNING:tensorflow:Value in checkpoint could not be found in the restored object: (root).optimizer.decay\n",
            "WARNING:tensorflow:Value in checkpoint could not be found in the restored object: (root).optimizer.learning_rate\n",
            "WARNING:tensorflow:Detecting that an object or model or tf.train.Checkpoint is being deleted with unrestored values. See the following logs for the specific values in question. To silence these warnings, use `status.expect_partial()`. See https://www.tensorflow.org/api_docs/python/tf/train/Checkpoint#restorefor details about the status object returned by the restore function.\n",
            "WARNING:tensorflow:Value in checkpoint could not be found in the restored object: (root).optimizer.iter\n",
            "WARNING:tensorflow:Value in checkpoint could not be found in the restored object: (root).optimizer.beta_1\n",
            "WARNING:tensorflow:Value in checkpoint could not be found in the restored object: (root).optimizer.beta_2\n",
            "WARNING:tensorflow:Value in checkpoint could not be found in the restored object: (root).optimizer.decay\n",
            "WARNING:tensorflow:Value in checkpoint could not be found in the restored object: (root).optimizer.learning_rate\n",
            "WARNING:tensorflow:Detecting that an object or model or tf.train.Checkpoint is being deleted with unrestored values. See the following logs for the specific values in question. To silence these warnings, use `status.expect_partial()`. See https://www.tensorflow.org/api_docs/python/tf/train/Checkpoint#restorefor details about the status object returned by the restore function.\n",
            "WARNING:tensorflow:Value in checkpoint could not be found in the restored object: (root).optimizer.iter\n",
            "WARNING:tensorflow:Value in checkpoint could not be found in the restored object: (root).optimizer.beta_1\n",
            "WARNING:tensorflow:Value in checkpoint could not be found in the restored object: (root).optimizer.beta_2\n",
            "WARNING:tensorflow:Value in checkpoint could not be found in the restored object: (root).optimizer.decay\n",
            "WARNING:tensorflow:Value in checkpoint could not be found in the restored object: (root).optimizer.learning_rate\n"
          ]
        },
        {
          "output_type": "stream",
          "name": "stdout",
          "text": [
            "32/32 [==============================] - 1s 4ms/step - loss: 1.1761 - sparse_categorical_accuracy: 0.6450\n",
            "Epoch 2/5\n",
            "32/32 [==============================] - 0s 4ms/step - loss: 0.4207 - sparse_categorical_accuracy: 0.8780\n",
            "Epoch 3/5\n",
            "32/32 [==============================] - 0s 4ms/step - loss: 0.2894 - sparse_categorical_accuracy: 0.9200\n",
            "Epoch 4/5\n",
            "32/32 [==============================] - 0s 5ms/step - loss: 0.2086 - sparse_categorical_accuracy: 0.9510\n",
            "Epoch 5/5\n",
            "32/32 [==============================] - 0s 4ms/step - loss: 0.1466 - sparse_categorical_accuracy: 0.9720\n"
          ]
        }
      ]
    },
    {
      "cell_type": "code",
      "source": [
        "# Inspecting my_model directory\n",
        "!ls saved_model\n",
        "\n",
        "# Contains an assets folder, saved_model.pb, and variables folder.\n",
        "!ls saved_model/my_model\n"
      ],
      "metadata": {
        "id": "g0Kxcvzvtb8s",
        "colab": {
          "base_uri": "https://localhost:8080/"
        },
        "outputId": "2b126329-12eb-4f6a-8c11-8efc5cd4b8b3"
      },
      "execution_count": 34,
      "outputs": [
        {
          "output_type": "stream",
          "name": "stdout",
          "text": [
            "my_model\n",
            "assets\tkeras_metadata.pb  saved_model.pb  variables\n"
          ]
        }
      ]
    },
    {
      "cell_type": "code",
      "source": [
        "#Restoring the saved model\n",
        "new_model = tf.keras.models.load_model('saved_model/my_model')\n",
        "\n",
        "# Check its architecture\n",
        "new_model.summary()\n"
      ],
      "metadata": {
        "id": "iiPoJlHVt0eo",
        "colab": {
          "base_uri": "https://localhost:8080/"
        },
        "outputId": "7332a842-60f9-428d-ea26-4371c3829ae7"
      },
      "execution_count": 35,
      "outputs": [
        {
          "output_type": "stream",
          "name": "stdout",
          "text": [
            "Model: \"sequential_14\"\n",
            "_________________________________________________________________\n",
            " Layer (type)                Output Shape              Param #   \n",
            "=================================================================\n",
            " dense_28 (Dense)            (None, 512)               401920    \n",
            "                                                                 \n",
            " dropout_14 (Dropout)        (None, 512)               0         \n",
            "                                                                 \n",
            " dense_29 (Dense)            (None, 10)                5130      \n",
            "                                                                 \n",
            "=================================================================\n",
            "Total params: 407,050\n",
            "Trainable params: 407,050\n",
            "Non-trainable params: 0\n",
            "_________________________________________________________________\n"
          ]
        }
      ]
    },
    {
      "cell_type": "code",
      "source": [
        "# Evaluating the restored model\n",
        "loss, acc = new_model.evaluate(test_images, test_labels, verbose=2)\n",
        "print('Restored model, accuracy: {:5.2f}%'.format(100 * acc))\n",
        "\n",
        "print(new_model.predict(test_images).shape)\n"
      ],
      "metadata": {
        "id": "bx331dtHt_Gs",
        "colab": {
          "base_uri": "https://localhost:8080/"
        },
        "outputId": "2f342f65-65d2-450e-ae00-bbc3849e7933"
      },
      "execution_count": 16,
      "outputs": [
        {
          "output_type": "stream",
          "name": "stdout",
          "text": [
            "32/32 - 0s - loss: 0.4365 - sparse_categorical_accuracy: 0.8580 - 173ms/epoch - 5ms/step\n",
            "Restored model, accuracy: 85.80%\n",
            "32/32 [==============================] - 0s 2ms/step\n",
            "(1000, 10)\n"
          ]
        }
      ]
    },
    {
      "cell_type": "markdown",
      "source": [
        "Saving using HDF5 format"
      ],
      "metadata": {
        "id": "I82piZl4uNi8"
      }
    },
    {
      "cell_type": "code",
      "source": [
        "# Create and train a new model instance.\n",
        "model = create_model()\n",
        "model.fit(train_images, train_labels, epochs=5)\n",
        "\n",
        "# Save the entire model to a HDF5 file.\n",
        "# The '.h5' extension indicates that the model should be saved to HDF5.\n",
        "model.save('my_model.h5')\n"
      ],
      "metadata": {
        "id": "YvDfP8SluQWk",
        "colab": {
          "base_uri": "https://localhost:8080/"
        },
        "outputId": "32bb16cd-fc61-4f08-a717-eab13654b87e"
      },
      "execution_count": 17,
      "outputs": [
        {
          "output_type": "stream",
          "name": "stdout",
          "text": [
            "Epoch 1/5\n",
            "32/32 [==============================] - 1s 5ms/step - loss: 1.1522 - sparse_categorical_accuracy: 0.6780\n",
            "Epoch 2/5\n",
            "32/32 [==============================] - 0s 4ms/step - loss: 0.4154 - sparse_categorical_accuracy: 0.8890\n",
            "Epoch 3/5\n",
            "32/32 [==============================] - 0s 5ms/step - loss: 0.2822 - sparse_categorical_accuracy: 0.9150\n",
            "Epoch 4/5\n",
            "32/32 [==============================] - 0s 5ms/step - loss: 0.2038 - sparse_categorical_accuracy: 0.9500\n",
            "Epoch 5/5\n",
            "32/32 [==============================] - 0s 6ms/step - loss: 0.1556 - sparse_categorical_accuracy: 0.9650\n"
          ]
        }
      ]
    },
    {
      "cell_type": "code",
      "source": [
        "# Recreate the exact same model, including its weights and the optimizer\n",
        "new_model = tf.keras.models.load_model('my_model.h5')\n",
        "\n",
        "# Show the model architecture\n",
        "new_model.summary()\n"
      ],
      "metadata": {
        "id": "t2-zI2avuSx3",
        "colab": {
          "base_uri": "https://localhost:8080/"
        },
        "outputId": "78278e52-c003-4ca5-b477-46b42e5d55f2"
      },
      "execution_count": 18,
      "outputs": [
        {
          "output_type": "stream",
          "name": "stdout",
          "text": [
            "Model: \"sequential_6\"\n",
            "_________________________________________________________________\n",
            " Layer (type)                Output Shape              Param #   \n",
            "=================================================================\n",
            " dense_12 (Dense)            (None, 512)               401920    \n",
            "                                                                 \n",
            " dropout_6 (Dropout)         (None, 512)               0         \n",
            "                                                                 \n",
            " dense_13 (Dense)            (None, 10)                5130      \n",
            "                                                                 \n",
            "=================================================================\n",
            "Total params: 407,050\n",
            "Trainable params: 407,050\n",
            "Non-trainable params: 0\n",
            "_________________________________________________________________\n"
          ]
        }
      ]
    },
    {
      "cell_type": "code",
      "source": [
        "loss, acc = new_model.evaluate(test_images, test_labels, verbose=2)\n",
        "print('Restored model, accuracy: {:5.2f}%'.format(100 * acc))\n"
      ],
      "metadata": {
        "id": "aN_uBttluVI1",
        "colab": {
          "base_uri": "https://localhost:8080/"
        },
        "outputId": "28d25d9a-b702-42d5-aa18-c99dbbbecae2"
      },
      "execution_count": 19,
      "outputs": [
        {
          "output_type": "stream",
          "name": "stdout",
          "text": [
            "32/32 - 0s - loss: 0.4598 - sparse_categorical_accuracy: 0.8470 - 182ms/epoch - 6ms/step\n",
            "Restored model, accuracy: 84.70%\n"
          ]
        }
      ]
    }
  ]
}