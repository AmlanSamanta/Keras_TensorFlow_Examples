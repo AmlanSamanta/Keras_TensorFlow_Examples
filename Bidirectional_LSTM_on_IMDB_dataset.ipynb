{
  "nbformat": 4,
  "nbformat_minor": 0,
  "metadata": {
    "colab": {
      "provenance": [],
      "authorship_tag": "ABX9TyMVDF2qVd8yZ2dhQAWGkEiC",
      "include_colab_link": true
    },
    "kernelspec": {
      "name": "python3",
      "display_name": "Python 3"
    },
    "language_info": {
      "name": "python"
    },
    "accelerator": "GPU",
    "gpuClass": "standard"
  },
  "cells": [
    {
      "cell_type": "markdown",
      "metadata": {
        "id": "view-in-github",
        "colab_type": "text"
      },
      "source": [
        "<a href=\"https://colab.research.google.com/github/AmlanSamanta/Keras_TensorFlow_Examples/blob/main/Bidirectional_LSTM_on_IMDB_dataset.ipynb\" target=\"_parent\"><img src=\"https://colab.research.google.com/assets/colab-badge.svg\" alt=\"Open In Colab\"/></a>"
      ]
    },
    {
      "cell_type": "code",
      "execution_count": 2,
      "metadata": {
        "colab": {
          "base_uri": "https://localhost:8080/"
        },
        "id": "7ZpEZEdvJX9q",
        "outputId": "e561ff4a-3c1a-4429-cd48-6b0f6d2eca74"
      },
      "outputs": [
        {
          "output_type": "stream",
          "name": "stdout",
          "text": [
            "25000 Training sequences\n",
            "25000 Validation sequences\n",
            "Model: \"model_1\"\n",
            "_________________________________________________________________\n",
            " Layer (type)                Output Shape              Param #   \n",
            "=================================================================\n",
            " input_2 (InputLayer)        [(None, None)]            0         \n",
            "                                                                 \n",
            " embedding_1 (Embedding)     (None, None, 128)         2560000   \n",
            "                                                                 \n",
            " bidirectional_2 (Bidirectio  (None, None, 128)        98816     \n",
            " nal)                                                            \n",
            "                                                                 \n",
            " bidirectional_3 (Bidirectio  (None, 128)              98816     \n",
            " nal)                                                            \n",
            "                                                                 \n",
            " dense_1 (Dense)             (None, 1)                 129       \n",
            "                                                                 \n",
            "=================================================================\n",
            "Total params: 2,757,761\n",
            "Trainable params: 2,757,761\n",
            "Non-trainable params: 0\n",
            "_________________________________________________________________\n",
            "Epoch 1/10\n",
            "782/782 [==============================] - 73s 83ms/step - loss: 0.4002 - accuracy: 0.8211 - val_loss: 0.3260 - val_accuracy: 0.8656\n",
            "Epoch 2/10\n",
            "782/782 [==============================] - 37s 47ms/step - loss: 0.1961 - accuracy: 0.9278 - val_loss: 0.6467 - val_accuracy: 0.7915\n",
            "Epoch 3/10\n",
            "782/782 [==============================] - 34s 43ms/step - loss: 0.1662 - accuracy: 0.9365 - val_loss: 0.3830 - val_accuracy: 0.8392\n",
            "Epoch 4/10\n",
            "782/782 [==============================] - 33s 42ms/step - loss: 0.0936 - accuracy: 0.9680 - val_loss: 0.4722 - val_accuracy: 0.8524\n",
            "Epoch 5/10\n",
            "782/782 [==============================] - 34s 43ms/step - loss: 0.0665 - accuracy: 0.9782 - val_loss: 0.4593 - val_accuracy: 0.8419\n",
            "Epoch 6/10\n",
            "782/782 [==============================] - 32s 41ms/step - loss: 0.0578 - accuracy: 0.9807 - val_loss: 0.5638 - val_accuracy: 0.8532\n",
            "Epoch 7/10\n",
            "782/782 [==============================] - 31s 40ms/step - loss: 0.0381 - accuracy: 0.9887 - val_loss: 0.7065 - val_accuracy: 0.8533\n",
            "Epoch 8/10\n",
            "782/782 [==============================] - 34s 44ms/step - loss: 0.0361 - accuracy: 0.9882 - val_loss: 0.6056 - val_accuracy: 0.8529\n",
            "Epoch 9/10\n",
            "782/782 [==============================] - 33s 43ms/step - loss: 0.0306 - accuracy: 0.9912 - val_loss: 0.6210 - val_accuracy: 0.8291\n",
            "Epoch 10/10\n",
            "782/782 [==============================] - 33s 42ms/step - loss: 0.0234 - accuracy: 0.9924 - val_loss: 0.7011 - val_accuracy: 0.8416\n"
          ]
        },
        {
          "output_type": "execute_result",
          "data": {
            "text/plain": [
              "<keras.callbacks.History at 0x7fd482e6c5e0>"
            ]
          },
          "metadata": {},
          "execution_count": 2
        }
      ],
      "source": [
        "import numpy as np\n",
        "from tensorflow import keras\n",
        "from tensorflow.keras import layers\n",
        "\n",
        "max_features = 20000  # Only consider the top 20k words\n",
        "maxlen = 200  # Only consider the first 200 words of each movie review\n",
        "\n",
        "\n",
        "# Prepare dataset\n",
        "(x_train, y_train), (x_val, y_val) = keras.datasets.imdb.load_data(\n",
        "    num_words=max_features\n",
        ")\n",
        "print(len(x_train), \"Training sequences\")\n",
        "print(len(x_val), \"Validation sequences\")\n",
        "x_train = keras.preprocessing.sequence.pad_sequences(x_train, maxlen=maxlen)\n",
        "x_val = keras.preprocessing.sequence.pad_sequences(x_val, maxlen=maxlen)\n",
        "\n",
        "\n",
        "# Build the model\n",
        "# Input for variable-length sequences of integers\n",
        "inputs = keras.Input(shape=(None,), dtype=\"int32\")\n",
        "# Embed each integer in a 128-dimensional vector\n",
        "x = layers.Embedding(max_features, 128)(inputs)\n",
        "# Add 2 bidirectional LSTMs\n",
        "x = layers.Bidirectional(layers.LSTM(64, return_sequences=True))(x)\n",
        "x = layers.Bidirectional(layers.LSTM(64))(x)\n",
        "# Add a classifier\n",
        "outputs = layers.Dense(1, activation=\"sigmoid\")(x)\n",
        "model = keras.Model(inputs, outputs)\n",
        "model.summary()\n",
        "\n",
        "\n",
        "model.compile(\"adam\", \"binary_crossentropy\", metrics=[\"accuracy\"])\n",
        "model.fit(x_train, y_train, batch_size=32, epochs=10, validation_data=(x_val, y_val))\n"
      ]
    }
  ]
}